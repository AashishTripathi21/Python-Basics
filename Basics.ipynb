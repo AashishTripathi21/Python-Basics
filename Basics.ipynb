{
 "cells": [
  {
   "cell_type": "code",
   "execution_count": 1,
   "id": "762cf00e",
   "metadata": {},
   "outputs": [
    {
     "name": "stdout",
     "output_type": "stream",
     "text": [
      "Hello World\n"
     ]
    }
   ],
   "source": [
    "print(\"Hello World\")"
   ]
  },
  {
   "cell_type": "code",
   "execution_count": 2,
   "id": "43123ff0",
   "metadata": {},
   "outputs": [
    {
     "name": "stdout",
     "output_type": "stream",
     "text": [
      "Welecome to Python\n"
     ]
    }
   ],
   "source": [
    "print(\"Welecome to Python\")"
   ]
  },
  {
   "cell_type": "markdown",
   "id": "540ba053",
   "metadata": {},
   "source": [
    "### Data Types"
   ]
  },
  {
   "cell_type": "markdown",
   "id": "3de4d326",
   "metadata": {},
   "source": [
    "## Data Types"
   ]
  },
  {
   "cell_type": "markdown",
   "id": "594c5739",
   "metadata": {},
   "source": [
    "# Data Types\n"
   ]
  },
  {
   "cell_type": "markdown",
   "id": "66267cf6",
   "metadata": {},
   "source": [
    "##### Data Types"
   ]
  },
  {
   "cell_type": "markdown",
   "id": "6c6726ec",
   "metadata": {},
   "source": [
    "######## Data Types\n",
    "####### Data Types"
   ]
  },
  {
   "cell_type": "markdown",
   "id": "4defb63c",
   "metadata": {},
   "source": [
    "###### Data Types"
   ]
  },
  {
   "cell_type": "markdown",
   "id": "dd1930c9",
   "metadata": {},
   "source": [
    "#Data Types"
   ]
  },
  {
   "cell_type": "code",
   "execution_count": null,
   "id": "eea4ee3a",
   "metadata": {},
   "outputs": [],
   "source": []
  }
 ],
 "metadata": {
  "kernelspec": {
   "display_name": "Python 3 (ipykernel)",
   "language": "python",
   "name": "python3"
  },
  "language_info": {
   "codemirror_mode": {
    "name": "ipython",
    "version": 3
   },
   "file_extension": ".py",
   "mimetype": "text/x-python",
   "name": "python",
   "nbconvert_exporter": "python",
   "pygments_lexer": "ipython3",
   "version": "3.9.7"
  }
 },
 "nbformat": 4,
 "nbformat_minor": 5
}
