{
 "cells": [
  {
   "cell_type": "markdown",
   "id": "d720e9ac",
   "metadata": {},
   "source": [
    "## Rules for naming the variable"
   ]
  },
  {
   "cell_type": "markdown",
   "id": "5831486f",
   "metadata": {},
   "source": [
    "### Variable name should not start with a number\n",
    "### Variable name does not allow spl characters other than underscore\n",
    "### Space is not allowed\n",
    "### Variable name can start with A-Z,a-z,_\n",
    "### Case Sensitive"
   ]
  },
  {
   "cell_type": "code",
   "execution_count": 1,
   "id": "418a7170",
   "metadata": {},
   "outputs": [
    {
     "data": {
      "text/plain": [
       "('Potato', 'Peas')"
      ]
     },
     "execution_count": 1,
     "metadata": {},
     "output_type": "execute_result"
    }
   ],
   "source": [
    "vegetables = 'Potato','Peas'\n",
    "vegetables"
   ]
  },
  {
   "cell_type": "code",
   "execution_count": 2,
   "id": "51a056e1",
   "metadata": {},
   "outputs": [
    {
     "data": {
      "text/plain": [
       "('Potato', 'Peas')"
      ]
     },
     "execution_count": 2,
     "metadata": {},
     "output_type": "execute_result"
    }
   ],
   "source": [
    "vegetables7 = 'Potato','Peas'\n",
    "vegetables7"
   ]
  },
  {
   "cell_type": "code",
   "execution_count": 3,
   "id": "33cd6a19",
   "metadata": {},
   "outputs": [
    {
     "data": {
      "text/plain": [
       "('Potato', 'Peas')"
      ]
     },
     "execution_count": 3,
     "metadata": {},
     "output_type": "execute_result"
    }
   ],
   "source": [
    "vegetables_list = 'Potato','Peas'\n",
    "vegetables_list"
   ]
  },
  {
   "cell_type": "code",
   "execution_count": 4,
   "id": "8566d112",
   "metadata": {},
   "outputs": [
    {
     "ename": "SyntaxError",
     "evalue": "cannot assign to operator (Temp/ipykernel_6780/277672474.py, line 1)",
     "output_type": "error",
     "traceback": [
      "\u001b[1;36m  File \u001b[1;32m\"C:\\Users\\AASHIS~1\\AppData\\Local\\Temp/ipykernel_6780/277672474.py\"\u001b[1;36m, line \u001b[1;32m1\u001b[0m\n\u001b[1;33m    -vegetables = 'Potato','Peas'\u001b[0m\n\u001b[1;37m    ^\u001b[0m\n\u001b[1;31mSyntaxError\u001b[0m\u001b[1;31m:\u001b[0m cannot assign to operator\n"
     ]
    }
   ],
   "source": [
    "-vegetables = 'Potato','Peas'\n",
    "-vegetables"
   ]
  },
  {
   "cell_type": "code",
   "execution_count": 6,
   "id": "9d4469f9",
   "metadata": {},
   "outputs": [
    {
     "ename": "SyntaxError",
     "evalue": "invalid syntax (Temp/ipykernel_6780/2577778940.py, line 1)",
     "output_type": "error",
     "traceback": [
      "\u001b[1;36m  File \u001b[1;32m\"C:\\Users\\AASHIS~1\\AppData\\Local\\Temp/ipykernel_6780/2577778940.py\"\u001b[1;36m, line \u001b[1;32m1\u001b[0m\n\u001b[1;33m    vegetable items = 'Potato','Peas'\u001b[0m\n\u001b[1;37m              ^\u001b[0m\n\u001b[1;31mSyntaxError\u001b[0m\u001b[1;31m:\u001b[0m invalid syntax\n"
     ]
    }
   ],
   "source": [
    "vegetable items = 'Potato','Peas'\n",
    "vegetable items"
   ]
  },
  {
   "cell_type": "code",
   "execution_count": 7,
   "id": "b8473ba7",
   "metadata": {},
   "outputs": [
    {
     "ename": "NameError",
     "evalue": "name 'Vegetables' is not defined",
     "output_type": "error",
     "traceback": [
      "\u001b[1;31m---------------------------------------------------------------------------\u001b[0m",
      "\u001b[1;31mNameError\u001b[0m                                 Traceback (most recent call last)",
      "\u001b[1;32mC:\\Users\\AASHIS~1\\AppData\\Local\\Temp/ipykernel_6780/306874062.py\u001b[0m in \u001b[0;36m<module>\u001b[1;34m\u001b[0m\n\u001b[0;32m      1\u001b[0m \u001b[0mvegetables\u001b[0m \u001b[1;33m=\u001b[0m \u001b[1;34m'Potato'\u001b[0m\u001b[1;33m,\u001b[0m\u001b[1;34m'Peas'\u001b[0m\u001b[1;33m\u001b[0m\u001b[1;33m\u001b[0m\u001b[0m\n\u001b[1;32m----> 2\u001b[1;33m \u001b[0mVegetables\u001b[0m\u001b[1;33m\u001b[0m\u001b[1;33m\u001b[0m\u001b[0m\n\u001b[0m",
      "\u001b[1;31mNameError\u001b[0m: name 'Vegetables' is not defined"
     ]
    }
   ],
   "source": [
    "vegetables = 'Potato','Peas'\n",
    "Vegetables"
   ]
  },
  {
   "cell_type": "code",
   "execution_count": null,
   "id": "bd0ab926",
   "metadata": {},
   "outputs": [],
   "source": []
  }
 ],
 "metadata": {
  "kernelspec": {
   "display_name": "Python 3 (ipykernel)",
   "language": "python",
   "name": "python3"
  },
  "language_info": {
   "codemirror_mode": {
    "name": "ipython",
    "version": 3
   },
   "file_extension": ".py",
   "mimetype": "text/x-python",
   "name": "python",
   "nbconvert_exporter": "python",
   "pygments_lexer": "ipython3",
   "version": "3.9.7"
  }
 },
 "nbformat": 4,
 "nbformat_minor": 5
}
