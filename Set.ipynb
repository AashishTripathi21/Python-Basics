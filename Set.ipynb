{
 "cells": [
  {
   "cell_type": "markdown",
   "id": "6f7626ba",
   "metadata": {},
   "source": [
    "# Set"
   ]
  },
  {
   "cell_type": "markdown",
   "id": "18ebcfd6",
   "metadata": {},
   "source": [
    "##### 1. Add heterogeneous\n",
    "##### 2. Does not allow duplicates\n",
    "##### 3. Cannot access using index\n",
    "##### 4. Immutable using index but it's mutable\n",
    "##### 5. Ordered first place \"\""
   ]
  },
  {
   "cell_type": "code",
   "execution_count": 8,
   "id": "e5c2839b",
   "metadata": {},
   "outputs": [
    {
     "data": {
      "text/plain": [
       "set"
      ]
     },
     "execution_count": 8,
     "metadata": {},
     "output_type": "execute_result"
    }
   ],
   "source": [
    "sample_set = {1,143,44,67,45,29,20,6,88,77,88,0,1,2,\"hello\",\"cat\",\"b\",\"abc\",12.5,234}\n",
    "type(sample_set)"
   ]
  },
  {
   "cell_type": "code",
   "execution_count": 10,
   "id": "9ab83265",
   "metadata": {},
   "outputs": [
    {
     "data": {
      "text/plain": [
       "{0,\n",
       " 1,\n",
       " 12.5,\n",
       " 143,\n",
       " 2,\n",
       " 20,\n",
       " 234,\n",
       " 29,\n",
       " 44,\n",
       " 45,\n",
       " 6,\n",
       " 67,\n",
       " 77,\n",
       " 88,\n",
       " 'abc',\n",
       " 'b',\n",
       " 'cat',\n",
       " 'hello'}"
      ]
     },
     "execution_count": 10,
     "metadata": {},
     "output_type": "execute_result"
    }
   ],
   "source": [
    "sample_set"
   ]
  },
  {
   "cell_type": "code",
   "execution_count": 4,
   "id": "b0796f86",
   "metadata": {},
   "outputs": [
    {
     "ename": "TypeError",
     "evalue": "'set' object is not subscriptable",
     "output_type": "error",
     "traceback": [
      "\u001b[1;31m---------------------------------------------------------------------------\u001b[0m",
      "\u001b[1;31mTypeError\u001b[0m                                 Traceback (most recent call last)",
      "\u001b[1;32mC:\\Users\\AASHIS~1\\AppData\\Local\\Temp/ipykernel_7656/2259847489.py\u001b[0m in \u001b[0;36m<module>\u001b[1;34m\u001b[0m\n\u001b[1;32m----> 1\u001b[1;33m \u001b[0msample_set\u001b[0m\u001b[1;33m[\u001b[0m\u001b[1;36m2\u001b[0m\u001b[1;33m]\u001b[0m\u001b[1;33m\u001b[0m\u001b[1;33m\u001b[0m\u001b[0m\n\u001b[0m",
      "\u001b[1;31mTypeError\u001b[0m: 'set' object is not subscriptable"
     ]
    }
   ],
   "source": [
    "sample_set[2]  // We cannot retrieve the elements using index in a set"
   ]
  },
  {
   "cell_type": "code",
   "execution_count": 5,
   "id": "66c40abe",
   "metadata": {},
   "outputs": [
    {
     "ename": "TypeError",
     "evalue": "'set' object does not support item assignment",
     "output_type": "error",
     "traceback": [
      "\u001b[1;31m---------------------------------------------------------------------------\u001b[0m",
      "\u001b[1;31mTypeError\u001b[0m                                 Traceback (most recent call last)",
      "\u001b[1;32mC:\\Users\\AASHIS~1\\AppData\\Local\\Temp/ipykernel_7656/843798639.py\u001b[0m in \u001b[0;36m<module>\u001b[1;34m\u001b[0m\n\u001b[1;32m----> 1\u001b[1;33m \u001b[0msample_set\u001b[0m\u001b[1;33m[\u001b[0m\u001b[1;36m2\u001b[0m\u001b[1;33m]\u001b[0m\u001b[1;33m=\u001b[0m\u001b[1;36m100\u001b[0m\u001b[1;33m\u001b[0m\u001b[1;33m\u001b[0m\u001b[0m\n\u001b[0m",
      "\u001b[1;31mTypeError\u001b[0m: 'set' object does not support item assignment"
     ]
    }
   ],
   "source": [
    "sample_set[2]=100"
   ]
  },
  {
   "cell_type": "code",
   "execution_count": 6,
   "id": "1e005b0b",
   "metadata": {},
   "outputs": [
    {
     "data": {
      "text/plain": [
       "{0,\n",
       " 1,\n",
       " 12.5,\n",
       " 143,\n",
       " 2,\n",
       " 20,\n",
       " 234,\n",
       " 29,\n",
       " 45,\n",
       " 6,\n",
       " 67,\n",
       " 77,\n",
       " 88,\n",
       " 'abc',\n",
       " 'b',\n",
       " 'cat',\n",
       " 'hello'}"
      ]
     },
     "execution_count": 6,
     "metadata": {},
     "output_type": "execute_result"
    }
   ],
   "source": [
    "sample_set.remove(44)\n",
    "sample_set"
   ]
  },
  {
   "cell_type": "code",
   "execution_count": 7,
   "id": "8607e6fa",
   "metadata": {},
   "outputs": [
    {
     "data": {
      "text/plain": [
       "{0,\n",
       " 1,\n",
       " 12.5,\n",
       " 143,\n",
       " 2,\n",
       " 20,\n",
       " 234,\n",
       " 29,\n",
       " 45,\n",
       " 6,\n",
       " 67,\n",
       " 77,\n",
       " 88,\n",
       " 99,\n",
       " 'abc',\n",
       " 'b',\n",
       " 'cat',\n",
       " 'hello'}"
      ]
     },
     "execution_count": 7,
     "metadata": {},
     "output_type": "execute_result"
    }
   ],
   "source": [
    "sample_set.add(99)\n",
    "sample_set"
   ]
  },
  {
   "cell_type": "code",
   "execution_count": null,
   "id": "cd549df8",
   "metadata": {},
   "outputs": [],
   "source": []
  }
 ],
 "metadata": {
  "kernelspec": {
   "display_name": "Python 3 (ipykernel)",
   "language": "python",
   "name": "python3"
  },
  "language_info": {
   "codemirror_mode": {
    "name": "ipython",
    "version": 3
   },
   "file_extension": ".py",
   "mimetype": "text/x-python",
   "name": "python",
   "nbconvert_exporter": "python",
   "pygments_lexer": "ipython3",
   "version": "3.9.7"
  }
 },
 "nbformat": 4,
 "nbformat_minor": 5
}
